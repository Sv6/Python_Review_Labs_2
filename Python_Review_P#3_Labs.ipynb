{
 "cells": [
  {
   "cell_type": "markdown",
   "id": "2d4a0e4d",
   "metadata": {},
   "source": [
    "## Lab1-Lists\n",
    "Given the following list : [5, 4, 17, 19, 30, 2, 7, 10, 45]\n",
    "- Q1: Write a Python program to sum all the items in the list.\n",
    "- Q2: Write a Python program to get the largest number from the list.\n",
    "- Q3: Use list comprehension, create a new list from the above list containing only even numbers.\n",
    "- Q4: Use list slicing to get a new list from the previous list starting from the start to the 5th element in the list."
   ]
  },
  {
   "cell_type": "code",
   "execution_count": 5,
   "id": "88e0fe9c",
   "metadata": {},
   "outputs": [
    {
     "name": "stdout",
     "output_type": "stream",
     "text": [
      "[2, 7, 10, 45]\n"
     ]
    }
   ],
   "source": [
    "lst1 = [5, 4, 17, 19, 30, 2 ,7, 10, 45]\n",
    "# Q1: Sum\n",
    "list_sum = sum(lst1)\n",
    "# Q2: get largest number\n",
    "max_list = max(lst1)\n",
    "# Q3: List comp. create even number etc...\n",
    "even_list = [n for n in lst1 if n%2 == 0]\n",
    "# Q4: List Slicing 5th to end\n",
    "new_list = lst1[5:]\n",
    "# if you mean from previous list in Q4. it will be an error\n",
    "\n"
   ]
  },
  {
   "cell_type": "markdown",
   "id": "4df61e4c",
   "metadata": {},
   "source": [
    "## Lab2-Dictionary\n",
    "\n",
    "Build a phone book program that receives the phone number, and returns the name of the owner. \n",
    "You can follow the table below:\n",
    "\n",
    "| Name    | Number      |\n",
    "| -------- | ---------- |\n",
    "| Amal     | 1111111111 |\n",
    "| Mohammed | 2222222222 |\n",
    "| Khadijah | 3333333333 |\n",
    "| Abdullah  | 4444444444 |\n",
    "| Rawan    | 5555555555 |\n",
    "| Faisal   | 6666666666 |\n",
    "| Layla    | 7777777777 |\n",
    "\n",
    "\n",
    "- If the number exists, print the owner. Otherwise, print \"Sorry, the number is not found\".\n",
    "- If the number is less or more than 10 numbers, print \"This is invalid number\".\n",
    "- If the number contains letters or symbols, print \"This is invalid number\"."
   ]
  },
  {
   "cell_type": "code",
   "execution_count": 40,
   "id": "7d53c06c",
   "metadata": {},
   "outputs": [
    {
     "name": "stdout",
     "output_type": "stream",
     "text": [
      "Mohammed\n"
     ]
    }
   ],
   "source": [
    "dict1 = {\"Amal\": \"1111111111\", \"Mohammed\": \"2222222222\", \"Khadijah\": \"3333333333\", \"Abdullah\": \"4444444444\", \"Rawan\": \"5555555555\", \"Faisal\": \"6666666666\", \"Layla\": \"7777777777\"}\n",
    "def phone_book(phone_number):\n",
    "    global dict1\n",
    "    phone_number = str(phone_number)\n",
    "    if 10 > len(phone_number) > 10 or not phone_number.isdigit():\n",
    "        return \"This is invalid number\"\n",
    "    if phone_number in dict1.values():\n",
    "        return [name for name, number in dict1.items() if number == phone_number][0]\n",
    "    else:\n",
    "        return \"Sorry, the number is not found\"\n",
    "print(phone_book(\"2222222222\"))"
   ]
  },
  {
   "cell_type": "code",
   "execution_count": null,
   "id": "ffdffaec",
   "metadata": {},
   "outputs": [],
   "source": []
  },
  {
   "cell_type": "code",
   "execution_count": null,
   "id": "93b05ba5",
   "metadata": {},
   "outputs": [],
   "source": []
  }
 ],
 "metadata": {
  "kernelspec": {
   "display_name": "Python 3 (ipykernel)",
   "language": "python",
   "name": "python3"
  },
  "language_info": {
   "codemirror_mode": {
    "name": "ipython",
    "version": 3
   },
   "file_extension": ".py",
   "mimetype": "text/x-python",
   "name": "python",
   "nbconvert_exporter": "python",
   "pygments_lexer": "ipython3",
   "version": "3.11.7"
  }
 },
 "nbformat": 4,
 "nbformat_minor": 5
}
